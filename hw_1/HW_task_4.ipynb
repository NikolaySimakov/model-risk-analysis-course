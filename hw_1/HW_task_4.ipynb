{
 "cells": [
  {
   "cell_type": "code",
   "execution_count": 1,
   "metadata": {},
   "outputs": [],
   "source": [
    "import numpy as np\n",
    "import pandas as pd\n",
    "import matplotlib.pyplot as plt\n",
    "from scipy.stats import lognorm, norm\n",
    "import statsmodels.api as sm\n",
    "from typing import Tuple\n",
    "from matplotlib.pyplot import figure\n",
    "from datetime import date\n",
    "from math import exp"
   ]
  },
  {
   "cell_type": "markdown",
   "metadata": {},
   "source": [
    "#### In integral form:\n",
    "\n",
    "$$\n",
    "    X_t - V(t, S_T) = \\underbrace{\\frac{X_0 - V(0, S_0)}{D_t}}_{\\text{Premium component}} + \\underbrace{\\frac{1}{D_t} \\int_0^t D_u (r_t - r) \\left(V(u, S_u) - \\frac{\\partial V}{\\partial s}(u, S_u) S_u \\right)du}_{\\text{Funding component}}\n",
    "$$\n",
    "$$\n",
    "+ \\underbrace{\\frac{1}{D_t} \\int_0^t \\left(\\Delta_u - \\frac{\\partial V}{\\partial s}(u, S_u) \\right) d(D_u S_u)}_{\\text{Delta component}} + \\underbrace{\\frac{1}{2} \\frac{1}{D_t} \\int_0^t D_u \\frac{\\partial^2 V}{\\partial s^2}(u, S_u) S_u^2(\\sigma^2 - \\sigma_t^2) du}_{\\text{Gamma component}}\n",
    "$$"
   ]
  },
  {
   "cell_type": "code",
   "execution_count": null,
   "metadata": {},
   "outputs": [],
   "source": [
    "def PVPutBS(\n",
    "    spotPrices: np.array,\n",
    "    strike: float,\n",
    "    maturity: float,\n",
    "    riskFreeRate: float,\n",
    "    volatility: float\n",
    ") -> np.array:\n",
    "    \"\"\"\n",
    "    Input parameters:\n",
    "    spotPrices - array of spot prices\n",
    "    strike - option strike\n",
    "    maturity - option maturity\n",
    "    riskFreeRate - current risk free rate \n",
    "    volatility - implied BS volatility\n",
    "    \n",
    "    Returns:\n",
    "    np.array of option prices\n",
    "    \"\"\"\n",
    "\n",
    "    d1 = (np.log(spotPrices / strike) + (riskFreeRate + 0.5 *\n",
    "          volatility ** 2) * maturity) / (volatility * np.sqrt(maturity))\n",
    "    d2 = d1 - volatility * np.sqrt(maturity)\n",
    "\n",
    "    return spotPrices * norm.cdf(d1) - strike * np.exp(-riskFreeRate * maturity) * norm.cdf(d2)"
   ]
  },
  {
   "cell_type": "code",
   "execution_count": null,
   "metadata": {},
   "outputs": [],
   "source": [
    "def DeltaPutBS(\n",
    "    spotPrices: np.array,\n",
    "    strike: float,\n",
    "    maturity: float,\n",
    "    riskFreeRate: float,\n",
    "    volatility: float\n",
    ") -> np.array:\n",
    "    \"\"\"\n",
    "    Input parameters:\n",
    "    spotPrices - array of spot prices\n",
    "    strike - option strike\n",
    "    maturity - option maturity\n",
    "    riskFreeRate - current risk free rate \n",
    "    volatility - implied BS volatility\n",
    "    \n",
    "    Returns:\n",
    "    np.array of option deltas\n",
    "    \"\"\"\n",
    "\n",
    "    d1 = (np.log(spotPrices / strike) + (riskFreeRate + 0.5 *\n",
    "          volatility ** 2) * maturity) / (volatility * np.sqrt(maturity))\n",
    "\n",
    "    return norm.cdf(d1)"
   ]
  },
  {
   "cell_type": "code",
   "execution_count": null,
   "metadata": {},
   "outputs": [],
   "source": [
    "def GammaPutBS(\n",
    "    spotPrices: np.array,\n",
    "    strike: float,\n",
    "    maturity: float,\n",
    "    riskFreeRate: float,\n",
    "    volatility: float\n",
    ") -> np.array:\n",
    "    \"\"\"\n",
    "    Input parameters:\n",
    "    spotPrices - array of spot prices\n",
    "    strike - option strike\n",
    "    maturity - option maturity\n",
    "    riskFreeRate - current risk free rate \n",
    "    volatility - implied BS volatility\n",
    "    \n",
    "    Returns:\n",
    "    np.array of option gammas\n",
    "    \"\"\"\n",
    "\n",
    "    d1 = (np.log(spotPrices / strike) + (riskFreeRate + 0.5 *\n",
    "          volatility ** 2) * maturity) / (volatility * np.sqrt(maturity))\n",
    "\n",
    "    return norm.pdf(d1) / (spotPrices * volatility * np.sqrt(maturity))"
   ]
  }
 ],
 "metadata": {
  "kernelspec": {
   "display_name": "Python 3",
   "language": "python",
   "name": "python3"
  },
  "language_info": {
   "codemirror_mode": {
    "name": "ipython",
    "version": 3
   },
   "file_extension": ".py",
   "mimetype": "text/x-python",
   "name": "python",
   "nbconvert_exporter": "python",
   "pygments_lexer": "ipython3",
   "version": "3.11.7"
  }
 },
 "nbformat": 4,
 "nbformat_minor": 2
}
